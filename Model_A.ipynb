{
 "cells": [
  {
   "cell_type": "markdown",
   "metadata": {},
   "source": [
    "## Imports"
   ]
  },
  {
   "cell_type": "code",
   "execution_count": 60,
   "metadata": {},
   "outputs": [],
   "source": [
    "import cvxopt\n",
    "import cvxopt.glpk\n",
    "from cvxopt import matrix\n",
    "\n",
    "import numpy as np"
   ]
  },
  {
   "cell_type": "code",
   "execution_count": 61,
   "metadata": {},
   "outputs": [],
   "source": [
    "# E: 0\n",
    "# W: 1\n",
    "# S: 2\n",
    "# N: 3\n",
    "\n",
    "d = { 'E': 0, 'W': 1, 'S': 2, 'N': 3}\n",
    "n = ['E', 'W', 'S', 'N']"
   ]
  },
  {
   "cell_type": "code",
   "execution_count": 62,
   "metadata": {},
   "outputs": [
    {
     "data": {
      "text/plain": [
       "5280"
      ]
     },
     "execution_count": 62,
     "metadata": {},
     "output_type": "execute_result"
    }
   ],
   "source": [
    "32*33*5"
   ]
  },
  {
   "cell_type": "code",
   "execution_count": 63,
   "metadata": {},
   "outputs": [],
   "source": [
    "\n",
    "\n",
    "def in_cross(i,j):\n",
    "    return not (i in [0,1,5,6] and j in [0,1,5,6]) and i<7 and j<7 and i>=0 and j>=0\n",
    "\n",
    "def board_to_index(i,j,t,d=None):\n",
    "    # i and j from 0 to 6, t from 0 to 31 (and moves go from 0 to 30), d from 0 to 3 + 1 (state). \n",
    "    if not in_cross(i,j):\n",
    "        raise Exception('Wrong indexes')\n",
    "    if d is None:\n",
    "        d = 4\n",
    "    if j < 2: #line\n",
    "        return j*3 + i + t * 33 + d * 32 * 33\n",
    "    if j < 5: #line\n",
    "        return 6 + (j-2) * 7 + i + t * 33 + d * 32 * 33\n",
    "    else:\n",
    "        return 27 + (j-5) * 3 + i + t * 33 + d * 32 * 33\n",
    "    \n",
    "\n",
    "def index_to_board(x):\n",
    "    d = x // (32*33)\n",
    "    x = x % (32*33)\n",
    "    t = x // 33\n",
    "    x = x % 33\n",
    "    \n",
    "    if x < 7:\n",
    "        return x % 3, x // 3, t, d\n",
    "    if x < 27:\n",
    "        x -= 6\n",
    "        return x % 7, 2 + x // 7, t, d\n",
    "    else:\n",
    "        x-= 27\n",
    "        return x % 3, 5 + x // 3, t, d\n",
    "\n"
   ]
  },
  {
   "cell_type": "code",
   "execution_count": 64,
   "metadata": {},
   "outputs": [
    {
     "name": "stdout",
     "output_type": "stream",
     "text": [
      "(2, 6, 31, 4)\n",
      "5279\n"
     ]
    }
   ],
   "source": [
    "print(index_to_board(5279))\n",
    "print(board_to_index(2, 6, 31, 4))"
   ]
  },
  {
   "cell_type": "code",
   "execution_count": null,
   "metadata": {},
   "outputs": [],
   "source": []
  },
  {
   "cell_type": "code",
   "execution_count": 69,
   "metadata": {},
   "outputs": [],
   "source": [
    "\n",
    "\n",
    "def generate_G_and_h():\n",
    "    G = []\n",
    "    h = []\n",
    "    for i in range(7):\n",
    "        for j in range(7):\n",
    "            for t in range(31):\n",
    "                if in_cross(i,j):\n",
    "                    #M[i, j, t, E] ≤ bState[i, j, t]\n",
    "                    idx_move = board_to_index(i,j,t,d['E'])\n",
    "                    idx_state = board_to_index(i,j,t)\n",
    "\n",
    "                    row = np.zeros(33*32*5)\n",
    "                    row[idx_move] = 1.0\n",
    "                    row[idx_state] = -1.0\n",
    "                    G.append(row)\n",
    "                    h.append(0.0)\n",
    "\n",
    "                    # M[i, j, t, E] ≤ bState[i + 1, j, t]\n",
    "                    if in_cross(i+1,j):\n",
    "                        idx_move = board_to_index(i,j,t,d['E'])\n",
    "                        idx_state = board_to_index(i+1,j,t)\n",
    "\n",
    "                        row = np.zeros(33*32*5)\n",
    "                        row[idx_move] = 1.0\n",
    "                        row[idx_state] = -1.0\n",
    "                        G.append(row)\n",
    "                        h.append(0.0)\n",
    "\n",
    "                    #M[i, j, t, E] ≤ 1 − bState[i + 2, j, t]\n",
    "                    if in_cross(i+2,j):\n",
    "                        idx_move = board_to_index(i,j,t,d['E'])\n",
    "                        idx_state = board_to_index(i+2,j,t)\n",
    "\n",
    "                        row = np.zeros(33*32*5)\n",
    "                        row[idx_move] = 1.0\n",
    "                        row[idx_state] = 1.0\n",
    "                        G.append(row)\n",
    "                        h.append(1.0)\n",
    "\n",
    "                    #M[i, j, t, W] ≤ bState[i, j, t]\n",
    "                    idx_move = board_to_index(i,j,t,d['W'])\n",
    "                    idx_state = board_to_index(i,j,t)\n",
    "\n",
    "                    row = np.zeros(33*32*5)\n",
    "                    row[idx_move] = 1.0\n",
    "                    row[idx_state] = -1.0\n",
    "                    G.append(row)\n",
    "                    h.append(0.0)\n",
    "\n",
    "                    #M[i, j, t, W ] ≤ bState[i − 1, j, t]\n",
    "                    if in_cross(i-1,j):\n",
    "                        idx_move = board_to_index(i,j,t,d['W'])\n",
    "                        idx_state = board_to_index(i-1,j,t)\n",
    "\n",
    "                        row = np.zeros(33*32*5)\n",
    "                        row[idx_move] = 1.0\n",
    "                        row[idx_state] = -1.0\n",
    "                        G.append(row)\n",
    "                        h.append(0.0)\n",
    "                    \n",
    "                    #M[i,j,t,W]≤1−bState[i−2,j,t]\n",
    "                    if in_cross(i-2,j):\n",
    "                        idx_move = board_to_index(i,j,t,d['W'])\n",
    "                        idx_state = board_to_index(i-2,j,t)\n",
    "\n",
    "                        row = np.zeros(33*32*5)\n",
    "                        row[idx_move] = 1.0\n",
    "                        row[idx_state] = 1.0\n",
    "                        G.append(row)\n",
    "                        h.append(1.0)\n",
    "                    \n",
    "                    #M[i, j, t, S] ≤ bState[i, j, t]\n",
    "                    idx_move = board_to_index(i,j,t,d['S'])\n",
    "                    idx_state = board_to_index(i,j,t)\n",
    "\n",
    "                    row = np.zeros(33*32*5)\n",
    "                    row[idx_move] = 1.0\n",
    "                    row[idx_state] = -1.0\n",
    "                    G.append(row)\n",
    "                    h.append(0.0)\n",
    "                    \n",
    "                    #M[i,j,t,S] ≤ bState[i,j + 1,t]\n",
    "                    if in_cross(i,j+1):\n",
    "                        idx_move = board_to_index(i,j,t,d['S'])\n",
    "                        idx_state = board_to_index(i,j+1,t)\n",
    "\n",
    "                        row = np.zeros(33*32*5)\n",
    "                        row[idx_move] = 1.0\n",
    "                        row[idx_state] = -1.0\n",
    "                        G.append(row)\n",
    "                        h.append(0.0)\n",
    "                        \n",
    "                    #M[i,j,t,S] ≤ 1 − bState[i,j + 2,t]\n",
    "                    if in_cross(i,j+2):\n",
    "                        idx_move = board_to_index(i,j,t,d['S'])\n",
    "                        idx_state = board_to_index(i,j+2,t)\n",
    "\n",
    "                        row = np.zeros(33*32*5)\n",
    "                        row[idx_move] = 1.0\n",
    "                        row[idx_state] = 1.0\n",
    "                        G.append(row)\n",
    "                        h.append(1.0)\n",
    "                    \n",
    "                    #M[i, j, t, N] ≤ bState[i, j, t]\n",
    "                    idx_move = board_to_index(i,j,t,d['N'])\n",
    "                    idx_state = board_to_index(i,j,t)\n",
    "\n",
    "                    row = np.zeros(33*32*5)\n",
    "                    row[idx_move] = 1.0\n",
    "                    row[idx_state] = -1.0\n",
    "                    G.append(row)\n",
    "                    h.append(0.0)\n",
    "                    \n",
    "                    #M[i,j,t,N] ≤ bState[i,j − 1,t]\n",
    "                    if in_cross(i,j-1):\n",
    "                        idx_move = board_to_index(i,j,t,d['N'])\n",
    "                        idx_state = board_to_index(i,j-1,t)\n",
    "\n",
    "                        row = np.zeros(33*32*5)\n",
    "                        row[idx_move] = 1.0\n",
    "                        row[idx_state] = -1.0\n",
    "                        G.append(row)\n",
    "                        h.append(0.0)\n",
    "                        \n",
    "                    #M[i,j,t,N]≤1−bState[i,j−2,t]\n",
    "                    if in_cross(i,j-2):\n",
    "                        idx_move = board_to_index(i,j,t,d['N'])\n",
    "                        idx_state = board_to_index(i,j-2,t)\n",
    "\n",
    "                        row = np.zeros(33*32*5)\n",
    "                        row[idx_move] = 1.0\n",
    "                        row[idx_state] = 1.0\n",
    "                        G.append(row)\n",
    "                        h.append(1.0)\n",
    "        \n",
    "    return G, h"
   ]
  },
  {
   "cell_type": "code",
   "execution_count": 70,
   "metadata": {},
   "outputs": [],
   "source": [
    "def generate_A_and_b():\n",
    "    A = []\n",
    "    \n",
    "    # bState[i, j, t] − bState[i, j, t + 1]\n",
    "    # - (sum for d, M[i, j, t, d])\n",
    "    # - M[i − 1, j, t, E] \n",
    "    # + M[i − 2, j, t, E] \n",
    "    # - M[i + 1, j, t, W] \n",
    "    # + M[i + 2, j, t, W]\n",
    "    # - M[i, j − 1, t, S] \n",
    "    # + M[i, j − 2, t, S] \n",
    "    # - M[i, j + 1, t, N] \n",
    "    # + M[i, j + 2, t, N]\n",
    "    # = 0\n",
    "    \n",
    "    A = []\n",
    "    b = []\n",
    "    for i in range(7):\n",
    "        for j in range(7):\n",
    "            for t in range(30):\n",
    "                if in_cross(i,j):\n",
    "                    row = np.zeros(33*32*5)\n",
    "\n",
    "                    row[board_to_index(i,j,t)] = 1.0\n",
    "                    row[board_to_index(i,j,t+1)] = -1.0\n",
    "                    \n",
    "                    row[board_to_index(i,j,t,0)] = -1.0\n",
    "                    row[board_to_index(i,j,t,1)] = -1.0\n",
    "                    row[board_to_index(i,j,t,2)] = -1.0\n",
    "                    row[board_to_index(i,j,t,3)] = -1.0\n",
    "                    \n",
    "                    if in_cross(i-1,j):\n",
    "                        row[board_to_index(i-1,j,t,d['E'])] = -1.0\n",
    "                    if in_cross(i-2,j):\n",
    "                        row[board_to_index(i-2,j,t,d['E'])] = 1.0\n",
    "                        \n",
    "                    if in_cross(i+1,j):\n",
    "                        row[board_to_index(i+1,j,t,d['W'])] = -1.0\n",
    "                    if in_cross(i+2,j):\n",
    "                        row[board_to_index(i+2,j,t,d['W'])] = 1.0\n",
    "                        \n",
    "                    if in_cross(i,j-1):\n",
    "                        row[board_to_index(i,j-1,t,d['S'])] = -1.0\n",
    "                    if in_cross(i,j-2):\n",
    "                        row[board_to_index(i,j-2,t,d['S'])] = 1.0\n",
    "                        \n",
    "                    if in_cross(i,j+1):\n",
    "                        row[board_to_index(i,j+1,t,d['N'])] = -1.0\n",
    "                    if in_cross(i,j+2):\n",
    "                        row[board_to_index(i,j+2,t,d['N'])] = 1.0\n",
    "                        \n",
    "                    A.append(row)\n",
    "                    b.append(0.0)\n",
    "    \n",
    "    print(np.array(A).shape)\n",
    "    \n",
    "    # (M[i,j,t,E]+M[i,j,t,W]+M[i,j,t,S]+M[i,j,t,N])=1\n",
    "    \n",
    "    # t from 0 to 32; player must make one move from 0 to 30 (requires 31 moves to solve)\n",
    "    for t in range(30):\n",
    "        row = np.zeros(33*32*5) \n",
    "        for i in range(7):\n",
    "            for j in range(7):\n",
    "                if in_cross(i,j):              \n",
    "                    row[board_to_index(i,j,t,0)] = 1.0\n",
    "                    row[board_to_index(i,j,t,1)] = 1.0\n",
    "                    row[board_to_index(i,j,t,2)] = 1.0\n",
    "                    row[board_to_index(i,j,t,3)] = 1.0\n",
    "        A.append(row)\n",
    "        b.append(1.0)\n",
    "    \n",
    "    # last move should be equal to 0\n",
    "    row_ = np.zeros(33*32*5) \n",
    "    for i in range(7):\n",
    "        for j in range(7):\n",
    "            if in_cross(i,j):              \n",
    "                row_[board_to_index(i,j,31,0)] = 1.0\n",
    "                row_[board_to_index(i,j,31,1)] = 1.0\n",
    "                row_[board_to_index(i,j,31,2)] = 1.0\n",
    "                row_[board_to_index(i,j,31,3)] = 1.0\n",
    "    A.append(row_)\n",
    "    b.append(0.0)\n",
    "                    \n",
    "    # intial state\n",
    "    for i in range(7):\n",
    "        for j in range(7):\n",
    "            if in_cross(i,j):\n",
    "                row = np.zeros(33*32*5)                    \n",
    "                row[board_to_index(i,j,0)] = 1.0\n",
    "                A.append(row)\n",
    "                if i==3 and j==3:\n",
    "                    b.append(0.0)\n",
    "                else:\n",
    "                    b.append(1.0)\n",
    "                    \n",
    "    # You can't just \"leave\" the board by the border:\n",
    "    row = np.zeros(33*32*5)\n",
    "    for i in range(7):\n",
    "        for t in range(31):\n",
    "            if in_cross(i,0):\n",
    "                row[board_to_index(i,0,t, d['N'])] = 1.0\n",
    "            if in_cross(i,6):\n",
    "                row[board_to_index(i,6,t, d['S'])] = 1.0\n",
    "            if in_cross(6,i):\n",
    "                row[board_to_index(6,i,t, d['E'])] = 1.0\n",
    "            if in_cross(0,i):\n",
    "                row[board_to_index(0,i,t, d['W'])] = 1.0\n",
    "    for i in [0,1,5,6]:\n",
    "        if in_cross(4,i):\n",
    "            row[board_to_index(4,i,t, d['E'])] = 1.0\n",
    "        if in_cross(2,i):\n",
    "            row[board_to_index(2,i,t, d['W'])] = 1.0\n",
    "        if in_cross(i,4):\n",
    "            row[board_to_index(i,4,t, d['S'])] = 1.0\n",
    "        if in_cross(i,2):\n",
    "            row[board_to_index(i,2,t, d['N'])] = 1.0   \n",
    "    \n",
    "    A.append(row)\n",
    "    b.append(0.0)\n",
    "    return A,b\n",
    "\n",
    "\n",
    "def generate_c():\n",
    "    c = np.zeros(33*32*5)\n",
    "    idx = board_to_index(3,3,31)\n",
    "    c[idx] = -1.0\n",
    "    return c"
   ]
  },
  {
   "cell_type": "code",
   "execution_count": 71,
   "metadata": {},
   "outputs": [],
   "source": [
    "def solve_solitary():\n",
    "    A, b = generate_A_and_b()\n",
    "    G, h = generate_G_and_h()\n",
    "    c = generate_c()\n",
    "    \n",
    "    A = np.array(A)\n",
    "    G = np.array(G)\n",
    "    h = np.array(h)\n",
    "    b = np.array(b)\n",
    "    c = np.array(c)\n",
    "    \n",
    "    \n",
    "    print(A.shape, b.shape, c.shape, G.shape, h.shape)\n",
    "    \n",
    "    A = matrix(A)\n",
    "    G = matrix(G)\n",
    "    h = matrix(h)\n",
    "    b = matrix(b)\n",
    "    c = matrix(c)\n",
    "    \n",
    "    return cvxopt.glpk.ilp(A=A, G=G, h=h, b=b, B=set([i for i in range(33*32*5)]), c=c)\n",
    "    \n",
    "    "
   ]
  },
  {
   "cell_type": "code",
   "execution_count": null,
   "metadata": {},
   "outputs": [
    {
     "name": "stdout",
     "output_type": "stream",
     "text": [
      "(990, 5280)\n"
     ]
    }
   ],
   "source": [
    "res = solve_solitary()"
   ]
  },
  {
   "cell_type": "code",
   "execution_count": 59,
   "metadata": {},
   "outputs": [
    {
     "name": "stdout",
     "output_type": "stream",
     "text": [
      "('LP relaxation is primal infeasible', None)\n"
     ]
    }
   ],
   "source": [
    "print(res)"
   ]
  },
  {
   "cell_type": "code",
   "execution_count": 11,
   "metadata": {},
   "outputs": [
    {
     "ename": "TypeError",
     "evalue": "unsupported operand type(s) for *: 'cvxopt.base.matrix' and 'NoneType'",
     "output_type": "error",
     "traceback": [
      "\u001b[0;31m---------------------------------------------------------------------------\u001b[0m",
      "\u001b[0;31mTypeError\u001b[0m                                 Traceback (most recent call last)",
      "\u001b[0;32m<ipython-input-11-7bed791ef4cf>\u001b[0m in \u001b[0;36m<module>\u001b[0;34m()\u001b[0m\n\u001b[1;32m      1\u001b[0m \u001b[0mc\u001b[0m \u001b[0;34m=\u001b[0m \u001b[0mmatrix\u001b[0m\u001b[0;34m(\u001b[0m\u001b[0mgenerate_c\u001b[0m\u001b[0;34m(\u001b[0m\u001b[0;34m)\u001b[0m\u001b[0;34m)\u001b[0m\u001b[0;34m\u001b[0m\u001b[0m\n\u001b[0;32m----> 2\u001b[0;31m \u001b[0mcost\u001b[0m \u001b[0;34m=\u001b[0m \u001b[0mc\u001b[0m\u001b[0;34m.\u001b[0m\u001b[0mtrans\u001b[0m\u001b[0;34m(\u001b[0m\u001b[0;34m)\u001b[0m \u001b[0;34m*\u001b[0m \u001b[0mres\u001b[0m\u001b[0;34m[\u001b[0m\u001b[0;36m1\u001b[0m\u001b[0;34m]\u001b[0m\u001b[0;34m\u001b[0m\u001b[0m\n\u001b[0m\u001b[1;32m      3\u001b[0m \u001b[0mprint\u001b[0m\u001b[0;34m(\u001b[0m\u001b[0mcost\u001b[0m\u001b[0;34m)\u001b[0m\u001b[0;34m\u001b[0m\u001b[0m\n\u001b[1;32m      4\u001b[0m \u001b[0mprint\u001b[0m\u001b[0;34m(\u001b[0m\u001b[0;34m[\u001b[0m\u001b[0mi\u001b[0m \u001b[0;32mfor\u001b[0m \u001b[0mi\u001b[0m \u001b[0;32min\u001b[0m \u001b[0mrange\u001b[0m\u001b[0;34m(\u001b[0m\u001b[0mlen\u001b[0m\u001b[0;34m(\u001b[0m\u001b[0mc\u001b[0m\u001b[0;34m)\u001b[0m\u001b[0;34m)\u001b[0m \u001b[0;32mif\u001b[0m \u001b[0mc\u001b[0m\u001b[0;34m[\u001b[0m\u001b[0mi\u001b[0m\u001b[0;34m]\u001b[0m \u001b[0;34m==\u001b[0m \u001b[0;34m-\u001b[0m\u001b[0;36m1\u001b[0m\u001b[0;34m]\u001b[0m\u001b[0;34m)\u001b[0m\u001b[0;34m\u001b[0m\u001b[0m\n\u001b[1;32m      5\u001b[0m \u001b[0mprint\u001b[0m\u001b[0;34m(\u001b[0m\u001b[0mindex_to_board\u001b[0m\u001b[0;34m(\u001b[0m\u001b[0;36m7815\u001b[0m\u001b[0;34m)\u001b[0m\u001b[0;34m)\u001b[0m\u001b[0;34m\u001b[0m\u001b[0m\n",
      "\u001b[0;31mTypeError\u001b[0m: unsupported operand type(s) for *: 'cvxopt.base.matrix' and 'NoneType'"
     ]
    }
   ],
   "source": [
    "c = matrix(generate_c())\n",
    "cost = c.trans() * res[1]\n",
    "print(cost)\n",
    "print([i for i in range(len(c)) if c[i] == -1])\n",
    "print(index_to_board(7815))"
   ]
  },
  {
   "cell_type": "code",
   "execution_count": null,
   "metadata": {},
   "outputs": [],
   "source": [
    "def convert_moves(res):\n",
    "    sol = []\n",
    "    \n",
    "    for i in range(len(res[1])):\n",
    "        if res[1][i] == 1.0:\n",
    "            sol.append(index_to_board(i))\n",
    "    \n",
    "    sol = sorted(sol, key=lambda M : M[2])\n",
    "    sol = np.array(sol)\n",
    "    moves = sol[np.where(sol[:,3] < 4, True, False)]\n",
    "    moves = [ (x[0], x[1], x[2], n[int(x[3])]) for x in moves ]\n",
    "    return moves\n",
    "\n",
    "def convert_state(res):\n",
    "    sol = []\n",
    "    \n",
    "    for i in range(len(res[1])):\n",
    "        if index_to_board(i)[3] == 4.0:\n",
    "            sol.append(index_to_board(i) + [res[1][i]])\n",
    "    \n",
    "    sol = sorted(sol, key=lambda M : M[2])\n",
    "    state = np.array(sol)\n",
    "    state = state.tolist()    \n",
    "    return state\n",
    "\n",
    "def pegs_remaining(state):\n",
    "    sol = []\n",
    "    for i in range(len(state)//49):\n",
    "        sol.append(sum([x[4] for x in state[i*49:i*49+49]]))\n",
    "    return sol"
   ]
  },
  {
   "cell_type": "code",
   "execution_count": null,
   "metadata": {
    "scrolled": false
   },
   "outputs": [],
   "source": [
    "state = convert_state(res)\n",
    "#pegs_remaining(state)\n",
    "\n",
    "mods = np.where(np.array(state[0:49])[:, 4] != np.array(state[49:98])[:, 4], True, False)\n",
    "print(np.array(state[0:49])[mods])\n",
    "print(np.array(state[49:98])[mods])"
   ]
  },
  {
   "cell_type": "code",
   "execution_count": null,
   "metadata": {},
   "outputs": [],
   "source": [
    "state = convert_state(res)\n",
    "state[0:98]"
   ]
  },
  {
   "cell_type": "code",
   "execution_count": null,
   "metadata": {
    "scrolled": false
   },
   "outputs": [],
   "source": [
    "moves = convert_moves(res)\n",
    "moves"
   ]
  },
  {
   "cell_type": "code",
   "execution_count": null,
   "metadata": {
    "scrolled": false
   },
   "outputs": [],
   "source": []
  },
  {
   "cell_type": "markdown",
   "metadata": {},
   "source": []
  }
 ],
 "metadata": {
  "kernelspec": {
   "display_name": "Python 3",
   "language": "python",
   "name": "python3"
  },
  "language_info": {
   "codemirror_mode": {
    "name": "ipython",
    "version": 3
   },
   "file_extension": ".py",
   "mimetype": "text/x-python",
   "name": "python",
   "nbconvert_exporter": "python",
   "pygments_lexer": "ipython3",
   "version": "3.6.5"
  }
 },
 "nbformat": 4,
 "nbformat_minor": 2
}
